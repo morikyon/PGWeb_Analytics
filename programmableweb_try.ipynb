{
 "cells": [
  {
   "cell_type": "code",
   "execution_count": 1,
   "metadata": {},
   "outputs": [],
   "source": [
    "# library\n",
    "from urllib import request\n",
    "from bs4 import BeautifulSoup\n",
    "import csv\n",
    "\n",
    "# filename\n",
    "filename = \"programmableweb_try_list.csv\""
   ]
  },
  {
   "cell_type": "code",
   "execution_count": 2,
   "metadata": {},
   "outputs": [],
   "source": [
    "#url\n",
    "url_init = \"https://www.programmableweb.com/category/all/apis\"\n",
    "url = \"https://www.programmableweb.com/category/all/apis?page=\"\n",
    "\n",
    "#for urlNo in range(1, 786):\n",
    "\n",
    "urlNo = 786\n",
    "url += str(urlNo)\n",
    "\n",
    "#get html\n",
    "html = request.urlopen(url)\n",
    "\n",
    "#set BueatifulSoup\n",
    "soup = BeautifulSoup(html, \"html.parser\")\n",
    "\n",
    "#get table\n",
    "programmableweb = soup.find(\"table\", attrs={\"class\", \"views-table cols-4 table\"})\n",
    "programmableweb_rows = programmableweb.find_all(\"tr\")\n"
   ]
  },
  {
   "cell_type": "code",
   "execution_count": 3,
   "metadata": {},
   "outputs": [],
   "source": [
    "# Write csv Header\n",
    "with open(filename, 'a', newline = '', encoding = 'utf-8') as f:\n",
    "    writer = csv.writer(f)\n",
    "    for row in programmableweb_rows:\n",
    "        csvRow = []\n",
    "        for cell in row.find_all(\"th\"):\n",
    "            csvRow.append(cell.get_text())\n",
    "        if len(csvRow) > 0:\n",
    "            writer.writerow(csvRow)"
   ]
  },
  {
   "cell_type": "code",
   "execution_count": 4,
   "metadata": {},
   "outputs": [
    {
     "name": "stdout",
     "output_type": "stream",
     "text": [
      "[]\n",
      "[' Nearby.org.uk', ' Coordinate converter that happens to perform some basic geocoding function. Currently can handle GB/Ireland Grid References, Worldwide Lat/Long, US Zipcodes, and UK Postcodes. Recently added IARU...', ' Mapping', ' 03.22.2006']\n",
      "[' King County Busses', ' The King County Busses API is a research project from the University of Washington. The service provides up-to-the-minute information about busses in the Seattle area (King County). Data from the...', ' Transportation', ' 03.17.2006']\n",
      "[' linkaGoGo', \" LinkaGoGo is a free favorites and social bookmarking application. Its unique dynamic toolbars automatically adapt themselves, so you'll find a bookmark without a click.\", ' Bookmarks', ' 03.08.2006']\n",
      "[' Macromedia News Aggregator', ' From their site: Macromedia XML News Aggregator, MXNA, provides a new web service API that allows developers to interact with MXNA 2.0 and extract data from the aggregator. Just about everything you...', ' News Services', ' 03.02.2006']\n",
      "[' soundtoys', ' The site is intended to provide a meeting point for a growing community of artists and users, and in addition to the exhibition of audio visual projects, the site contains areas for artists...', ' Music', ' 03.01.2006']\n",
      "[' Cypress Golf', ' From their site at [[http://www.cypressgolfsolutions.com Cypress Golf Solutions]]: Website operators in the golf and travel industries are looking for new ways to attract and retain customers while...', ' Sports', ' 02.23.2006']\n",
      "[' Wordtracker', ' Wordtracker provides website keyword searching, research, and analysis. Wordtracker provides keyword data for over 130 territories and 300 million keywords that are updated monthly.\\nThe Wordtracker...', ' Advertising', ' 02.14.2006']\n",
      "[' Bunchball', \" The Bunchball API allows developers to access Bunchball's Nitro platform, which offers enterprise gamification for improving employee engagement. The platform includes a flexible rules engine...\", ' Business', ' 02.03.2006']\n",
      "[' NewsIsFree', ' News search and sources with mapping support. The normal site uses RSS for news feeds.', ' News Services', ' 12.28.2005']\n",
      "[' ecommstats', ' From their site: ecommStats was created in collaboration with several online stores to track where revenue was coming in and to see the return on investment from advertising expenditures. The system...', ' Statistics', ' 12.28.2005']\n",
      "[' tagthe.net', ' What is this? tagthe.net is a webservice intended to provide you with tags for your texts. You can use it in your applications, in other webservices or just play around with it. Why is it so...', ' Classification', ' 12.02.2005']\n",
      "[' WSRelater', ' Note: WSRelater is now Aggregrate Knowledge. Not currently offering a public API (as of January 2007).', ' Recommendations', ' 11.27.2005']\n",
      "[' CDYNE', ' CDYNE creates and provides use-based quality communication and data solutions to include SMS, Voice, Data Enhancement and Verification. Our APIs allow the end user to easily integrate our products...', ' API', ' 10.01.2005']\n",
      "[' SmartTravelDeals', ' SmartTravelDeals publishes the best travel deals on the web. We publish current travel offers to worldwide destinations and connect you to the direct booking path.', ' Travel', ' 09.14.2005']\n",
      "[' UrlTrends', ' The UrlTrends API gives SEO tools to developers. Access to search engine data including search terms for finding a given url, search metrics, and other tools to research and measure for search engine...', ' Advertising', ' 09.08.2005']\n",
      "[' SeqHound', ' SeqHound: biological sequence and structure database as a platform for bioinformatics research. SeqHound has been developed as an integrated biological sequence, taxonomy, annotation and 3-D...', ' Medical', ' 09.04.2005']\n",
      "[' activeRenderer', ' activeRenderer is an outline publishing tool for Radio UserLand : it brings the power of outlining to your blogging and web publishing experience.', ' Other', ' 09.04.2005']\n",
      "[' Inkling', ' Our REST API allows you to replicate much of the functionality in our hosted marketplace solution to build custom widgets and stock tickers for your Intranet, create custom reports, add trading...', ' Financial', ' 06.02.2005']\n"
     ]
    }
   ],
   "source": [
    "# Write csv\n",
    "with open(filename, 'a', newline = '', encoding = 'utf-8') as f:\n",
    "    writer = csv.writer(f)\n",
    "    for row in programmableweb_rows:\n",
    "        csvRow = []\n",
    "        for cell in row.find_all(\"td\"):\n",
    "            csvRow.append(cell.get_text())\n",
    "        if len(csvRow) > 0:\n",
    "            writer.writerow(csvRow)\n",
    "        print(csvRow)"
   ]
  },
  {
   "cell_type": "code",
   "execution_count": null,
   "metadata": {},
   "outputs": [],
   "source": []
  },
  {
   "cell_type": "code",
   "execution_count": null,
   "metadata": {},
   "outputs": [],
   "source": []
  }
 ],
 "metadata": {
  "kernelspec": {
   "display_name": "Python 3",
   "language": "python",
   "name": "python3"
  },
  "language_info": {
   "codemirror_mode": {
    "name": "ipython",
    "version": 3
   },
   "file_extension": ".py",
   "mimetype": "text/x-python",
   "name": "python",
   "nbconvert_exporter": "python",
   "pygments_lexer": "ipython3",
   "version": "3.7.2"
  }
 },
 "nbformat": 4,
 "nbformat_minor": 4
}
